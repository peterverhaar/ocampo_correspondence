{
 "cells": [
  {
   "cell_type": "code",
   "execution_count": 1,
   "id": "51030165",
   "metadata": {},
   "outputs": [],
   "source": [
    "import os\n",
    "from os import walk\n",
    "from os.path import join\n",
    "import pypdfium2 as pdfium\n",
    "import pytesseract\n",
    "import cv2\n",
    "import re\n",
    "\n",
    "def mkdir(path):\n",
    "    try:\n",
    "        os.makedirs(path)\n",
    "    except OSError as exc: \n",
    "        if exc.errno == errno.EEXIST and os.path.isdir(path):\n",
    "            pass\n",
    "        else: raise\n",
    "            \n",
    "def splitall(path):\n",
    "    allparts = []\n",
    "    while 1:\n",
    "        parts = os.path.split(path)\n",
    "        if parts[0] == path:  # sentinel for absolute paths\n",
    "            allparts.insert(0, parts[0])\n",
    "            break\n",
    "        elif parts[1] == path: # sentinel for relative paths\n",
    "            allparts.insert(0, parts[1])\n",
    "            break\n",
    "        else:\n",
    "            path = parts[0]\n",
    "            allparts.insert(0, parts[1])\n",
    "    return allparts"
   ]
  },
  {
   "cell_type": "code",
   "execution_count": 2,
   "id": "0d016ac6",
   "metadata": {},
   "outputs": [
    {
     "name": "stdout",
     "output_type": "stream",
     "text": [
      "Corpus/CAMUS\n",
      "TXT/camus.txt\n",
      "Corpus/WOOLF\n",
      "TXT/woolf.txt\n",
      "Corpus/ORTEGAYGASSET\n",
      "TXT/ortegaygasset.txt\n",
      "Corpus/MISTRAL\n",
      "TXT/mistral.txt\n"
     ]
    }
   ],
   "source": [
    "folders_files = dict()\n",
    "\n",
    "directory = 'Corpus'\n",
    "folders = os.listdir(directory)\n",
    "folders = [os.path.join(directory,folder) for folder in folders if not(re.search(r'[.]',folder))]\n",
    "folders = [folder for folder in folders if os.path.isdir(folder)]\n",
    "\n",
    "for folder in folders:\n",
    "    print(folder)\n",
    "    file_name = os.path.basename(folder).lower() + '.txt'\n",
    "    path = os.path.join('TXT',file_name)\n",
    "    print(path)\n",
    "    out = open(path,'w',encoding='utf-8')\n",
    "    out.close()\n",
    "    folders_files[folder] = path"
   ]
  },
  {
   "cell_type": "code",
   "execution_count": 3,
   "id": "7618e458",
   "metadata": {},
   "outputs": [],
   "source": [
    "correspondence = []\n",
    "for dirpath, subdirs, files in os.walk('Corpus'):\n",
    "    for x in files:\n",
    "        correspondence.append(os.path.join(dirpath, x))\n",
    "        \n",
    "correspondence = [pdf for pdf in correspondence if re.search(r'pdf$',pdf)]"
   ]
  },
  {
   "cell_type": "code",
   "execution_count": null,
   "id": "a5fb0dc8",
   "metadata": {},
   "outputs": [
    {
     "name": "stdout",
     "output_type": "stream",
     "text": [
      "Corpus/CAMUS/VO_AC/VO_AC_4a.pdf\n",
      "TXT/camus.txt\n",
      "VO_AC_4a.txt\n",
      "Corpus/CAMUS/VO_AC/VO_AC_8a.pdf\n",
      "TXT/camus.txt\n",
      "VO_AC_8a.txt\n",
      "Corpus/CAMUS/VO_AC/VO_AC_5a.pdf\n",
      "TXT/camus.txt\n",
      "VO_AC_5a.txt\n",
      "Corpus/CAMUS/VO_AC/VO_AC_2a.pdf\n",
      "TXT/camus.txt\n",
      "VO_AC_2a.txt\n"
     ]
    }
   ],
   "source": [
    "directory = \"TXT\"\n",
    "\n",
    "for doc in correspondence:\n",
    "    \n",
    "    #folders_files\n",
    "\n",
    "    # Load a document\n",
    "    print(doc)\n",
    "    parts = splitall(doc)\n",
    "    found_dir = os.path.join(parts[0],parts[1])\n",
    "    file_name = folders_files[found_dir]\n",
    "    print(file_name)\n",
    "    txt = os.path.basename(doc)\n",
    "    txt = re.sub('pdf$','txt',txt)\n",
    "    out = open(file_name,'a',encoding='utf-8')\n",
    "    print(txt)\n",
    "    pdf = pdfium.PdfDocument(doc)\n",
    "\n",
    "    # Loop over pages and render\n",
    "    for i in range(len(pdf)):\n",
    "        page = pdf[i]\n",
    "        image = page.render(scale=4).to_pil()\n",
    "        image.save('page.jpg')\n",
    "        \n",
    "        text_image = cv2.imread('page.jpg')\n",
    "        im_rgb = cv2.cvtColor(text_image, cv2.COLOR_BGR2RGB)\n",
    "        #image = cv2.cvtColor(image, cv2.COLOR_BGR2RGB)\n",
    "        # use Tesseract to OCR the image\n",
    "        text = pytesseract.image_to_string(im_rgb)\n",
    "        out.write(text)\n",
    "    out.close()\n",
    "        \n"
   ]
  },
  {
   "cell_type": "code",
   "execution_count": null,
   "id": "42e8f4eb",
   "metadata": {},
   "outputs": [],
   "source": [
    "# List of available languages\n",
    "#print(pytesseract.get_languages(config=''))\n"
   ]
  },
  {
   "cell_type": "code",
   "execution_count": null,
   "id": "6ef1518a",
   "metadata": {},
   "outputs": [],
   "source": []
  }
 ],
 "metadata": {
  "kernelspec": {
   "display_name": "Python 3 (ipykernel)",
   "language": "python",
   "name": "python3"
  },
  "language_info": {
   "codemirror_mode": {
    "name": "ipython",
    "version": 3
   },
   "file_extension": ".py",
   "mimetype": "text/x-python",
   "name": "python",
   "nbconvert_exporter": "python",
   "pygments_lexer": "ipython3",
   "version": "3.7.9"
  }
 },
 "nbformat": 4,
 "nbformat_minor": 5
}
